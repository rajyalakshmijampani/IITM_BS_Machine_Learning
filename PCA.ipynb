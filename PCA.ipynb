{
  "nbformat": 4,
  "nbformat_minor": 0,
  "metadata": {
    "colab": {
      "provenance": []
    },
    "kernelspec": {
      "name": "python3",
      "display_name": "Python 3"
    },
    "language_info": {
      "name": "python"
    },
    "gpuClass": "standard"
  },
  "cells": [
    {
      "cell_type": "markdown",
      "source": [
        "# Week-1\n",
        "\n",
        "**Note to Learners**:\n",
        "\n",
        "- Click on \"Copy to Drive\", the button that appears just below the taskbar, to make a copy of this notebook in your drive. If you continue working with this notebook, changes **will not** be saved.\n",
        "\n",
        "\n",
        "- For questions that involve plotting, just enter $0$ as the answer in the portal.\n",
        "- For numerical questions, there are two parts. The first part expects you to compute some quantity, say a parameter of a machine learning model. The second part will require you to convert this quantity (if it is not a scalar) into a scalar so that it can be entered as the answer on the portal to the corresponding NAT question.\n",
        "\n"
      ],
      "metadata": {
        "id": "53TcQvUOjGxr"
      }
    },
    {
      "cell_type": "markdown",
      "source": [
        "## Dataset\n",
        "\n",
        "We will be working with a subset of the [MNIST dataset](https://en.wikipedia.org/wiki/MNIST_database). Run the cell given below to generate the data-matrix $\\mathbf{X}$, which is of shape $(n, d)$, where $n$ denotes the number of samples and $d$ denotes the number of features. You will be using this dataset for the rest of the assignment. Do not edit this cell."
      ],
      "metadata": {
        "id": "I3DzbeU33QxN"
      }
    },
    {
      "cell_type": "code",
      "source": [
        "##### DATASET GENERATION #####\n",
        "import numpy as np\n",
        "from keras.datasets import mnist\n",
        "(X_train, y_train), (X_test, y_test) = mnist.load_data()\n",
        "X = X_train[y_train == 2][: 100].reshape(-1, 28 * 28)\n",
        "test_image = X_test[y_test == 2][0].reshape(28 * 28)\n",
        "##### DO NOT EDIT THIS CELL #####"
      ],
      "metadata": {
        "id": "uOBXmnyg3ZFH",
        "colab": {
          "base_uri": "https://localhost:8080/"
        },
        "outputId": "78ba221b-f4e0-4201-8240-b71d9b9d2214"
      },
      "execution_count": null,
      "outputs": [
        {
          "output_type": "stream",
          "name": "stdout",
          "text": [
            "Downloading data from https://storage.googleapis.com/tensorflow/tf-keras-datasets/mnist.npz\n",
            "11490434/11490434 [==============================] - 0s 0us/step\n"
          ]
        }
      ]
    },
    {
      "cell_type": "code",
      "source": [
        "import matplotlib.pyplot as plt"
      ],
      "metadata": {
        "id": "IzyseyrfLNRu"
      },
      "execution_count": 5,
      "outputs": []
    },
    {
      "cell_type": "markdown",
      "source": [
        "## Problem-1\n",
        "\n",
        "How many samples does the dataset have?"
      ],
      "metadata": {
        "id": "5RyvzK8z4o47"
      }
    },
    {
      "cell_type": "code",
      "source": [
        "X.shape[0] # X.shape = (n,d)  n is the number of samples"
      ],
      "metadata": {
        "id": "rFXCXoje52x-",
        "colab": {
          "base_uri": "https://localhost:8080/"
        },
        "outputId": "5be05355-dba5-4d70-a924-ae7b1845673b"
      },
      "execution_count": null,
      "outputs": [
        {
          "output_type": "execute_result",
          "data": {
            "text/plain": [
              "100"
            ]
          },
          "metadata": {},
          "execution_count": 2
        }
      ]
    },
    {
      "cell_type": "markdown",
      "source": [
        "## Problem-2\n",
        "\n",
        "How many features does the dataset have?"
      ],
      "metadata": {
        "id": "UrmLi2sK4ynX"
      }
    },
    {
      "cell_type": "code",
      "source": [
        "X.shape[1] # X.shape = (n,d)  d is the number of features"
      ],
      "metadata": {
        "id": "WQ75O4D141R0",
        "colab": {
          "base_uri": "https://localhost:8080/"
        },
        "outputId": "0979b4c3-f208-416d-b591-0d5954e03945"
      },
      "execution_count": null,
      "outputs": [
        {
          "output_type": "execute_result",
          "data": {
            "text/plain": [
              "784"
            ]
          },
          "metadata": {},
          "execution_count": 3
        }
      ]
    },
    {
      "cell_type": "code",
      "source": [
        "X=X.T # Transpose the matrix to get into regular standard of dxn matrix. Shape of X now becomes d*n = 784*100"
      ],
      "metadata": {
        "id": "h3fWDOvaHByb"
      },
      "execution_count": null,
      "outputs": []
    },
    {
      "cell_type": "markdown",
      "source": [
        "## Problem-3\n",
        "\n",
        "Each sample corresponds to an image of dimension $28 \\times 28$. Visualize one of these images using the `matplotlib` library.\n",
        "\n",
        "- You need to know how to reshape a feature vector. Refer to week-0 content for the same.\n",
        "- You can refer to the following [document](https://matplotlib.org/stable/tutorials/introductory/images.html#sphx-glr-tutorials-introductory-images-py) for plotting NumPy arrays as images using `matplotlib`."
      ],
      "metadata": {
        "id": "BPUFxtI55G2h"
      }
    },
    {
      "cell_type": "code",
      "source": [
        "Y = X[:,0] # Extract first sample i.e. first column of X"
      ],
      "metadata": {
        "id": "j7MewYrmM8Ht"
      },
      "execution_count": 18,
      "outputs": []
    },
    {
      "cell_type": "code",
      "source": [
        "imgplot=plt.imshow(Y.reshape(28,28),cmap='gray') # Plotting first sample"
      ],
      "metadata": {
        "id": "ExvRNXPZ6246",
        "colab": {
          "base_uri": "https://localhost:8080/",
          "height": 430
        },
        "outputId": "461b000b-acf2-451f-85d6-a2fad58bfd75"
      },
      "execution_count": 19,
      "outputs": [
        {
          "output_type": "display_data",
          "data": {
            "text/plain": [
              "<Figure size 640x480 with 1 Axes>"
            ],
            "image/png": "[encoded data removed]"
          },
          "metadata": {}
        }
      ]
    },
    {
      "cell_type": "markdown",
      "source": [
        "## Problem-4\n",
        "\n",
        "Center the the dataset $\\mathbf{X}$ around its mean. Call this centered dataset $\\mathbf{X}^{\\prime}$.\n",
        "\n",
        "<u>Conversion</u>\n",
        "\n",
        "Enter the following quantity as your answer correct to two decimal places:\n",
        "\n",
        "$$\n",
        "\\cfrac{1}{n \\cdot d} \\sqrt{\\sum \\limits_{i = 1}^{n} \\sum \\limits_{j = 1}^{d} (X_{ij}^{\\prime})^2}\n",
        "$$"
      ],
      "metadata": {
        "id": "8e2xflo8FF8K"
      }
    },
    {
      "cell_type": "code",
      "source": [
        "def center(X):\n",
        "  return X - X.mean(axis=1).reshape(-1,1) # Row-wise mean.Convert it into 1 column and decide how many rows it will be\n",
        "\n",
        "X_prime=center(X)\n",
        "#print(X.shape,X_prime.shape)\n",
        "\n",
        "d,n = X.shape\n",
        "\n",
        "sum=0\n",
        "for x in np.nditer(X_prime):\n",
        "  sum+=(x**2)\n",
        "\n",
        "import math\n",
        "numerator=math.sqrt(sum)\n",
        "denominator = n*d\n",
        "\n",
        "print(numerator/denominator)"
      ],
      "metadata": {
        "id": "9uNDPtBjH5Df",
        "colab": {
          "base_uri": "https://localhost:8080/"
        },
        "outputId": "fe54b2b7-9d7e-46d0-e887-88eb095432ac"
      },
      "execution_count": 22,
      "outputs": [
        {
          "output_type": "stream",
          "name": "stdout",
          "text": [
            "0.23242174456564954\n"
          ]
        }
      ]
    },
    {
      "cell_type": "markdown",
      "source": [
        "## Problem-5\n",
        "\n",
        "Compute the covariance matrix $\\mathbf{C}$ of the centered dataset.\n",
        "\n",
        "<u>Conversion</u>\n",
        "\n",
        "Enter the following quantity as your answer correct to two decimal places:\n",
        "\n",
        "$$\n",
        "\\cfrac{1}{d^2} \\sqrt{\\sum \\limits_{i = 1}^{d} \\sum \\limits_{j = 1}^{d} C_{ij}^2}\n",
        "$$"
      ],
      "metadata": {
        "id": "8UPKuD8uJCnE"
      }
    },
    {
      "cell_type": "code",
      "source": [
        "def covariance(X):\n",
        "  return X @ X.T / n\n",
        "\n",
        "C=covariance(X_prime)\n",
        "# print(C.shape)\n",
        "\n",
        "sum=0\n",
        "for c in np.nditer(C):\n",
        "  sum+=(c**2)\n",
        "\n",
        "numerator=math.sqrt(sum)\n",
        "denominator = d*d\n",
        "\n",
        "print(numerator/denominator)\n"
      ],
      "metadata": {
        "id": "ZWT1bzBDlk2m",
        "colab": {
          "base_uri": "https://localhost:8080/"
        },
        "outputId": "851b4c65-9036-415b-a61d-fb881007fed1"
      },
      "execution_count": 24,
      "outputs": [
        {
          "output_type": "stream",
          "name": "stdout",
          "text": [
            "1.3648061009232155\n"
          ]
        }
      ]
    },
    {
      "cell_type": "markdown",
      "source": [
        "## Problem-6\n",
        "\n",
        "Compute the first and second principal components of the dataset, $\\mathbf{w}_1$ and $\\mathbf{w}_2$.\n",
        "\n",
        "<u>Conversion</u>\n",
        "\n",
        "Compute:\n",
        "$$\n",
        "\\mathbf{w} = \\mathbf{w}_1 + \\mathbf{w}_2\n",
        "$$\n",
        "\n",
        "Enter the following quantity as your answer correct to two decimal places:\n",
        "\n",
        "$$\n",
        "\\left| \\sum \\limits_{i = 1}^{d} w_i \\right|\n",
        "$$"
      ],
      "metadata": {
        "id": "FfJK8OiMr2mh"
      }
    },
    {
      "cell_type": "code",
      "source": [
        "def compute_pc(C):\n",
        "  d = C.shape[0]\n",
        "  eigval,eigvec = np.linalg.eigh(C)\n",
        "  w1, w2 = eigvec[:,-1], eigvec[:,-2] # Eigen vector corresponding to Highest principal component is the last element in eigvec. So using index of -1 to get it\n",
        "  return w1, w2\n",
        "\n",
        "w1,w2= compute_pc(C)\n",
        "#print(w1.shape,w2.shape)\n",
        "\n",
        "w1 = w1.reshape(w1.shape[0],1)  # Make it as column vector\n",
        "w2 = w2.reshape(w2.shape[0],1) # Make it as column vector\n",
        "\n",
        "w= w1+w2\n",
        "#print(w.shape)\n",
        "\n",
        "sum=0\n",
        "for wi in np.nditer(w):\n",
        "  sum+=wi\n",
        "\n",
        "print(abs(wi))\n"
      ],
      "metadata": {
        "id": "KgJ1FCa1tvZR",
        "colab": {
          "base_uri": "https://localhost:8080/"
        },
        "outputId": "4ee16612-ed9e-4ee1-e91c-4959bb402908"
      },
      "execution_count": 33,
      "outputs": [
        {
          "output_type": "stream",
          "name": "stdout",
          "text": [
            "0.0\n"
          ]
        }
      ]
    },
    {
      "cell_type": "markdown",
      "source": [
        "## Problem-7\n",
        "\n",
        "Visualize the first principal component as an image."
      ],
      "metadata": {
        "id": "9CBt_pmj-5pl"
      }
    },
    {
      "cell_type": "code",
      "source": [
        "plt.imshow(w1.reshape(28,28),cmap='gray')"
      ],
      "metadata": {
        "id": "KXiJLyT7_N29",
        "colab": {
          "base_uri": "https://localhost:8080/",
          "height": 447
        },
        "outputId": "a1e673b3-fc34-4589-b22b-760a987a31e2"
      },
      "execution_count": null,
      "outputs": [
        {
          "output_type": "execute_result",
          "data": {
            "text/plain": [
              "<matplotlib.image.AxesImage at 0x7ab9fa6ca9b0>"
            ]
          },
          "metadata": {},
          "execution_count": 74
        },
        {
          "output_type": "display_data",
          "data": {
            "text/plain": [
              "<Figure size 640x480 with 1 Axes>"
            ],
            "image/png": "[encoded data removed]"
          },
          "metadata": {}
        }
      ]
    },
    {
      "cell_type": "code",
      "source": [
        "# Reconstruction using two principal components\n",
        "\n",
        "r = w1 @ (X_prime.T @ w1).reshape(1,n) + w2 @ (X_prime.T @ w2).reshape(1,n)\n",
        "print(r.shape)\n",
        "plt.imshow(r[:,0].reshape(28,28),cmap='gray')"
      ],
      "metadata": {
        "colab": {
          "base_uri": "https://localhost:8080/",
          "height": 465
        },
        "id": "KOXT2DZCauhF",
        "outputId": "b00e3e0a-f18f-47e0-aa28-c695370463b6"
      },
      "execution_count": 39,
      "outputs": [
        {
          "output_type": "stream",
          "name": "stdout",
          "text": [
            "(784, 100)\n"
          ]
        },
        {
          "output_type": "execute_result",
          "data": {
            "text/plain": [
              "<matplotlib.image.AxesImage at 0x7fad3e58d5d0>"
            ]
          },
          "metadata": {},
          "execution_count": 39
        },
        {
          "output_type": "display_data",
          "data": {
            "text/plain": [
              "<Figure size 640x480 with 1 Axes>"
            ],
            "image/png": "[encoded data removed]"
          },
          "metadata": {}
        }
      ]
    },
    {
      "cell_type": "markdown",
      "source": [
        "## Problem-8\n",
        "\n",
        "Find the smallest value of $k$ for which the first $k$ principal components capture at least $95\\%$ of the variance in the data."
      ],
      "metadata": {
        "id": "o37ie_mqxqhy"
      }
    },
    {
      "cell_type": "code",
      "source": [
        "eigval,eigvec = np.linalg.eigh(C)\n",
        "eigval=eigval[::-1]\n",
        "\n",
        "def var_thresh(k):\n",
        "  tot_var = 0\n",
        "  req_var = 0\n",
        "  for x in eigval:\n",
        "    tot_var +=x\n",
        "  for y in range(k):\n",
        "    req_var += eigval[y]\n",
        "  return req_var/tot_var\n",
        "\n",
        "for i in range(d+1):\n",
        "  exp_var=var_thresh(i)\n",
        "  if exp_var>=0.95:\n",
        "    break\n",
        "print(\"The smallest value required is \"+str(i))"
      ],
      "metadata": {
        "id": "_JiPpEwCyvQK",
        "colab": {
          "base_uri": "https://localhost:8080/"
        },
        "outputId": "dab23fb8-ee39-43da-e2c9-dcf1e41927bb"
      },
      "execution_count": 42,
      "outputs": [
        {
          "output_type": "stream",
          "name": "stdout",
          "text": [
            "The smallest value required is 53\n"
          ]
        }
      ]
    },
    {
      "cell_type": "markdown",
      "source": [
        "## Problem-9\n",
        "\n",
        "Given a `test_image`, visualize the proxies  by reconstructing it using the top $k$ principal components. Consider four values of $k$; values of $k$ for which the top-$k$ principal components explain:\n",
        "\n",
        "- 20% of the variance\n",
        "- 50% of the variance\n",
        "- 80% of the variance\n",
        "- 95% of the variance\n",
        "\n"
      ],
      "metadata": {
        "id": "5raTmu_s0Gpq"
      }
    },
    {
      "cell_type": "code",
      "source": [
        "def reconstruct(C,test_image,thresh):\n",
        "  eigval,eigvec=np.linalg.eigh(C)\n",
        "  eigval=list(reversed(eigval))\n",
        "  tot = np.sum(eigval)\n",
        "  K = len(eigval)\n",
        "  for k in range(len(eigval)):\n",
        "    if np.sum(eigval[:k+1])/tot >= thresh:\n",
        "      K=k+1\n",
        "      break\n",
        "  W = eigvec[:,-K:]\n",
        "  coeff = test_image @ W\n",
        "  return W @ coeff\n",
        "\n",
        "plt.figure(figsize=(20,20))\n",
        "\n",
        "recon_image=reconstruct(C,test_image,0.2)\n",
        "plt.subplot(1,5,1)\n",
        "plt.imshow(recon_image.reshape(28,28))\n",
        "plt.title('Variance covered = 20%')\n",
        "\n",
        "recon_image=reconstruct(C,test_image,0.50)\n",
        "plt.subplot(1,5,2)\n",
        "plt.imshow(recon_image.reshape(28,28))\n",
        "plt.title('Variance covered = 50%')\n",
        "\n",
        "recon_image=reconstruct(C,test_image,0.80)\n",
        "plt.subplot(1,5,3)\n",
        "plt.imshow(recon_image.reshape(28,28))\n",
        "plt.title('Variance covered = 80%')\n",
        "\n",
        "recon_image=reconstruct(C,test_image,0.95)\n",
        "plt.subplot(1,5,4)\n",
        "plt.imshow(recon_image.reshape(28,28))\n",
        "plt.title('Variance covered = 95%')\n",
        "\n",
        "test_image=np.float64(test_image) - Y.mean(axis =0)\n",
        "plt.subplot(1,5,5)\n",
        "plt.imshow(test_image.reshape(28,28))\n",
        "plt.title('Test Image')"
      ],
      "metadata": {
        "id": "yrjf1Er24vLo",
        "colab": {
          "base_uri": "https://localhost:8080/",
          "height": 331
        },
        "outputId": "766dc5be-9a24-4963-b0fe-4c6242155b38"
      },
      "execution_count": 52,
      "outputs": [
        {
          "output_type": "execute_result",
          "data": {
            "text/plain": [
              "Text(0.5, 1.0, 'Test Image')"
            ]
          },
          "metadata": {},
          "execution_count": 52
        },
        {
          "output_type": "display_data",
          "data": {
            "text/plain": [
              "<Figure size 2000x2000 with 5 Axes>"
            ],
            "image/png": "[encoded data removed]"
          },
          "metadata": {}
        }
      ]
    }
  ]
}